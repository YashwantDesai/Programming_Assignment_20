{
 "cells": [
  {
   "cell_type": "markdown",
   "id": "0c27a818",
   "metadata": {},
   "source": [
    "# Yashwant Desai –  Programming_Assingment 20"
   ]
  },
  {
   "cell_type": "markdown",
   "id": "9f377b0f",
   "metadata": {},
   "source": [
    "# Question 1"
   ]
  },
  {
   "cell_type": "markdown",
   "id": "f09d2a91",
   "metadata": {},
   "source": [
    "Create a function that takes a list of strings and integers, and filters out the list so that it returns a list of integers only.\n",
    "Examples\n",
    "filter_list([1, 2, 3, \"a\", \"b\", 4]) ➞ [1, 2, 3, 4]\n",
    "\n",
    "filter_list([\"A\", 0, \"Edabit\", 1729, \"Python\", \"1729\"]) ➞ [0, 1729]\n",
    "\n",
    "filter_list([\"Nothing\", \"here\"]) ➞ []"
   ]
  },
  {
   "cell_type": "code",
   "execution_count": 13,
   "id": "509186f5",
   "metadata": {},
   "outputs": [
    {
     "name": "stdout",
     "output_type": "stream",
     "text": [
      "filter_list([1, 2, 3, a, b, 4]) ➞ [1, 2, 3, 4]\n",
      "filter_list([A, 0, Edabit, 1729, Python, 1729]) ➞ [0, 1729]\n",
      "filter_list([Nothing, here]) ➞ []\n"
     ]
    }
   ],
   "source": [
    "def filter_list(user_input):\n",
    "    integers_only = [item for item in user_input if isinstance(item, int)]\n",
    "    return integers_only\n",
    "a = (filter_list([1, 2, 3, \"a\", \"b\", 4]))\n",
    "b = (filter_list([\"A\", 0, \"Edabit\", 1729, \"Python\", \"1729\"]))\n",
    "c = (filter_list([\"Nothing\", \"here\"]))\n",
    "print(f\"filter_list([1, 2, 3, a, b, 4]) ➞ {a}\")\n",
    "print(f\"filter_list([A, 0, Edabit, 1729, Python, 1729]) ➞ {b}\")\n",
    "print(f\"filter_list([Nothing, here]) ➞ {c}\")"
   ]
  },
  {
   "cell_type": "markdown",
   "id": "aa079f72",
   "metadata": {},
   "source": [
    "# Question2"
   ]
  },
  {
   "cell_type": "markdown",
   "id": "aa98a014",
   "metadata": {},
   "source": [
    "Given a list of numbers, create a function which returns the list but with each element's index in the list added to itself. This means you add 0 to the number at index 0, add 1 to the number at index 1, etc...\n",
    "Examples\n",
    "add_indexes([0, 0, 0, 0, 0]) ➞ [0, 1, 2, 3, 4]\n",
    "\n",
    "add_indexes([1, 2, 3, 4, 5]) ➞ [1, 3, 5, 7, 9]\n",
    "\n",
    "add_indexes([5, 4, 3, 2, 1]) ➞ [5, 5, 5, 5, 5]\n"
   ]
  },
  {
   "cell_type": "code",
   "execution_count": 20,
   "id": "86234387",
   "metadata": {},
   "outputs": [
    {
     "name": "stdout",
     "output_type": "stream",
     "text": [
      "add_indexes([0, 0, 0, 0, 0]) ➞ [0, 1, 2, 3, 4]\n",
      "add_indexes([1, 2, 3, 4, 5]) ➞ [1, 3, 5, 7, 9]\n",
      "add_indexes([5, 4, 3, 2, 1]) ➞ [5, 5, 5, 5, 5]\n"
     ]
    }
   ],
   "source": [
    "def add_indexes(user_list):\n",
    "    result = [num + index for index, num in enumerate(user_list)]\n",
    "    return result\n",
    "print(f\"add_indexes([0, 0, 0, 0, 0]) ➞ {add_indexes([0, 0, 0, 0, 0])}\")\n",
    "print(f\"add_indexes([1, 2, 3, 4, 5]) ➞ {add_indexes([1, 2, 3, 4, 5])}\")\n",
    "print(f\"add_indexes([5, 4, 3, 2, 1]) ➞ {add_indexes([5, 4, 3, 2, 1])}\")"
   ]
  },
  {
   "cell_type": "markdown",
   "id": "94962d82",
   "metadata": {},
   "source": [
    "# Question3"
   ]
  },
  {
   "cell_type": "markdown",
   "id": "0ef09938",
   "metadata": {},
   "source": [
    "Create a function that takes the height and radius of a cone as arguments and returns the volume of the cone rounded to the nearest hundredth. See the resources tab for the formula.\n",
    " \n",
    "Examples\n",
    "cone_volume(3, 2) ➞ 12.57\n",
    "\n",
    "cone_volume(15, 6) ➞ 565.49\n",
    "\n",
    "cone_volume(18, 0) ➞ 0\n"
   ]
  },
  {
   "cell_type": "code",
   "execution_count": 25,
   "id": "47fb5013",
   "metadata": {},
   "outputs": [
    {
     "name": "stdout",
     "output_type": "stream",
     "text": [
      "cone_volume(3, 2) ➞ 12.57\n",
      "cone_volume(15, 6) ➞ 565.49\n",
      "cone_volume(18, 0) ➞ 0\n"
     ]
    }
   ],
   "source": [
    "import math\n",
    "def cone_volume(height, radius):\n",
    "    if radius <= 0:\n",
    "        return 0\n",
    "    volume = (math.pi * radius ** 2 * height) / 3\n",
    "    rounded_volume = round(volume, 2)\n",
    "    return rounded_volume\n",
    "print(f\"cone_volume(3, 2) ➞ {cone_volume(3, 2)}\")\n",
    "print(f\"cone_volume(15, 6) ➞ {cone_volume(15, 6)}\")\n",
    "print(f\"cone_volume(18, 0) ➞ {cone_volume(18, 0)}\")"
   ]
  },
  {
   "cell_type": "markdown",
   "id": "8cb71481",
   "metadata": {},
   "source": [
    "# Question4"
   ]
  },
  {
   "cell_type": "markdown",
   "id": "35f41fc2",
   "metadata": {},
   "source": [
    "This Triangular Number Sequence is generated from a pattern of dots that form a triangle. The first 5 numbers of the sequence, or dots, are: \n",
    "1, 3, 6, 10, 15\n",
    "This means that the first triangle has just one dot, the second one has three dots, the third one has 6 dots and so on.\n",
    "Write a function that gives the number of dots with its corresponding triangle number of the sequence.\n",
    "Examples\n",
    "triangle(1) ➞ 1\n",
    "\n",
    "triangle(6) ➞ 21\n",
    "\n",
    "triangle(215) ➞ 23220"
   ]
  },
  {
   "cell_type": "code",
   "execution_count": 29,
   "id": "857adb7b",
   "metadata": {},
   "outputs": [
    {
     "name": "stdout",
     "output_type": "stream",
     "text": [
      "triangle(1) ➞ 1\n",
      "triangle(6) ➞ 21\n",
      "triangle(215) ➞ 23220\n"
     ]
    }
   ],
   "source": [
    "def triangle(n):\n",
    "    dots = n * (n + 1) // 2\n",
    "    return dots\n",
    "print(f\"triangle(1) ➞ {triangle(1)}\")\n",
    "print(f\"triangle(6) ➞ {triangle(6)}\")\n",
    "print(f\"triangle(215) ➞ {triangle(215)}\")"
   ]
  },
  {
   "cell_type": "markdown",
   "id": "c9690e79",
   "metadata": {},
   "source": [
    "# Question5"
   ]
  },
  {
   "cell_type": "markdown",
   "id": "e49cea1e",
   "metadata": {},
   "source": [
    "Create a function that takes a list of numbers between 1 and 10 (excluding one number) and returns the missing number.\n",
    "Examples\n",
    "missing_num([1, 2, 3, 4, 6, 7, 8, 9, 10]) ➞ 5\n",
    "\n",
    "missing_num([7, 2, 3, 6, 5, 9, 1, 4, 8]) ➞ 10\n",
    "\n",
    "missing_num([10, 5, 1, 2, 4, 6, 8, 3, 9]) ➞ 7"
   ]
  },
  {
   "cell_type": "code",
   "execution_count": 35,
   "id": "95e9675b",
   "metadata": {},
   "outputs": [
    {
     "name": "stdout",
     "output_type": "stream",
     "text": [
      "missing_num([1, 2, 3, 4, 6, 7, 8, 9, 10]) ➞ 5\n",
      "missing_num([7, 2, 3, 6, 5, 9, 1, 4, 8]) ➞ 10\n",
      "missing_num([10, 5, 1, 2, 4, 6, 8, 3, 9]) ➞ 7\n"
     ]
    }
   ],
   "source": [
    "def missing_num(user_input):\n",
    "    total_sum = sum(range(1, 11))\n",
    "    list_sum = sum(user_input)\n",
    "    missing_number = total_sum - list_sum\n",
    "    return missing_number\n",
    "print(f\"missing_num([1, 2, 3, 4, 6, 7, 8, 9, 10]) ➞ {missing_num([1, 2, 3, 4, 6, 7, 8, 9, 10])}\")\n",
    "print(f\"missing_num([7, 2, 3, 6, 5, 9, 1, 4, 8]) ➞ {missing_num([7, 2, 3, 6, 5, 9, 1, 4, 8])}\")\n",
    "print(f\"missing_num([10, 5, 1, 2, 4, 6, 8, 3, 9]) ➞ {missing_num([10, 5, 1, 2, 4, 6, 8, 3, 9])}\")"
   ]
  },
  {
   "cell_type": "markdown",
   "id": "a79c0885",
   "metadata": {},
   "source": [
    "# Done Regards,Yashwant"
   ]
  }
 ],
 "metadata": {
  "kernelspec": {
   "display_name": "Python 3 (ipykernel)",
   "language": "python",
   "name": "python3"
  },
  "language_info": {
   "codemirror_mode": {
    "name": "ipython",
    "version": 3
   },
   "file_extension": ".py",
   "mimetype": "text/x-python",
   "name": "python",
   "nbconvert_exporter": "python",
   "pygments_lexer": "ipython3",
   "version": "3.9.13"
  }
 },
 "nbformat": 4,
 "nbformat_minor": 5
}
